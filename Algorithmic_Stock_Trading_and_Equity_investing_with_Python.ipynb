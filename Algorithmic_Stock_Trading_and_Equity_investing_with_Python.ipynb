{
  "nbformat": 4,
  "nbformat_minor": 0,
  "metadata": {
    "colab": {
      "provenance": []
    },
    "kernelspec": {
      "name": "python3",
      "display_name": "Python 3"
    },
    "language_info": {
      "name": "python"
    }
  },
  "cells": [
    {
      "cell_type": "code",
      "execution_count": null,
      "metadata": {
        "id": "9a1jBoWxURGf"
      },
      "outputs": [],
      "source": [
        "!pip install yfinance\n",
        "import yfinance as yf\n",
        "import numpy as np\n",
        "import pandas as pd\n",
        "import matplotlib.pyplot as plt\n",
        "import seaborn as sns\n",
        "import scipy.stats as stats\n",
        "from pandas_datareader.data import DataReader \n",
        "plt.style.use(\"seaborn\")\n",
        "pd.options.display.float_format = '{:.4f}'.format\n"
      ]
    },
    {
      "cell_type": "code",
      "source": [
        "symbol = \"AAPL\"\n",
        "\n",
        "df = yf.download(tickers = symbol)\n",
        "print(df)\n",
        "df.index\n",
        "df.info()"
      ],
      "metadata": {
        "id": "H0JQlzFZavyX"
      },
      "execution_count": null,
      "outputs": []
    },
    {
      "cell_type": "markdown",
      "source": [
        "Pice Chart "
      ],
      "metadata": {
        "id": "Fk3OqMo5Rq8D"
      }
    },
    {
      "cell_type": "code",
      "source": [
        "df.Close.plot(figsize = (12,8), fontsize =12)\n",
        "plt.ylabel(\"Price (USD)\")\n",
        "plt.title(\"AAPL Price Chart\", fontsize = 15)\n",
        "plt.show()"
      ],
      "metadata": {
        "id": "eCz1B9PkRt8P"
      },
      "execution_count": null,
      "outputs": []
    },
    {
      "cell_type": "markdown",
      "source": [
        "Volume Chart "
      ],
      "metadata": {
        "id": "UQ93LEkWSGSD"
      }
    },
    {
      "cell_type": "code",
      "source": [
        "df.loc[\"2022-6\", \"Volume\"].plot(figsize = (12,8), kind = \"bar\")\n",
        "plt.ylabel(\"Volume (Shares)\")\n",
        "plt.title(\"AAPL Trading Volume (daily)\", fontsize = 15)\n",
        "plt.show()"
      ],
      "metadata": {
        "id": "-ZweEoO-SJPZ"
      },
      "execution_count": null,
      "outputs": []
    },
    {
      "cell_type": "code",
      "source": [
        "df.Volume.mul(df.Close) # Trading Volume (USD Value)"
      ],
      "metadata": {
        "id": "m2691h6XSpXr"
      },
      "execution_count": null,
      "outputs": []
    },
    {
      "cell_type": "markdown",
      "source": [
        "Dividend"
      ],
      "metadata": {
        "id": "2C02fxqw7ZZC"
      }
    },
    {
      "cell_type": "code",
      "source": [
        "df = yf.download(tickers = symbol, actions = True)\n",
        "df.loc[df.Dividends != 0]\n",
        "df.Dividends.sum() # cumulative Dividends per share\n",
        "df.Close[-1] - df.Close[0] # cumulative Stock Price Increase\n",
        "df.loc[df.Dividends != 0].Dividends.plot()\n",
        "plt.show()"
      ],
      "metadata": {
        "id": "EKVi-rbFTPHp"
      },
      "execution_count": null,
      "outputs": []
    },
    {
      "cell_type": "markdown",
      "source": [
        "Adjusted Close price"
      ],
      "metadata": {
        "id": "pEcG54ayTp7f"
      }
    },
    {
      "cell_type": "code",
      "source": [
        "df2 = df[[\"Close\", \"Adj Close\", \"Dividends\"]].copy()\n",
        "print(df2)\n",
        "\n",
        "df2.loc[\"2015\":].plot(figsize = (12,8), secondary_y = \"Dividends\")\n",
        "plt.show()\n",
        "\n",
        "df2[df2.Dividends > 0]\n",
        "\n",
        "last_div = df2.loc[\"2022-08-01\" : \"2022-08-5\"].copy()\n",
        "print(last_div)\n",
        "\n",
        "print(last_div.Close - last_div[\"Adj Close\"])\n",
        "\n",
        "multiplier = (1 - 0.23/165.809998)\n",
        "print(multiplier)\n",
        "\n",
        "last_div[\"Adj Close calc\"] = last_div.Close * multiplier\n",
        "print(last_div)\n",
        "\n",
        "print(df[\"Adj Close\"] / df[\"Close\"]) # Total Multiplier( All dividends)\n",
        "\n"
      ],
      "metadata": {
        "id": "gcgIou-ATPa6"
      },
      "execution_count": null,
      "outputs": []
    },
    {
      "cell_type": "markdown",
      "source": [
        "Stock Splits"
      ],
      "metadata": {
        "id": "zL-mepfvp6pa"
      }
    },
    {
      "cell_type": "code",
      "source": [
        "splits = df.loc[df[\"Stock Splits\"] > 0]\n",
        "print(splits)\n",
        "\n",
        "df[\"Stock Splits\"].replace(to_replace = 0, value = 1, inplace = True)\n",
        "print(df)\n",
        "\n",
        "df[\"Multiplier\"] = df.sort_index(ascending = False)[\"Stock Splits\"].cumprod() # cumlative mulitplier\n",
        "print(df)\n",
        "\n",
        "df[\"Close_unadj\"] = df[\"Close\"] * df.Multiplier # obersvable close price\n",
        "print(df)\n",
        "\n",
        "df[[\"Close\", \"Close_unadj\"]].plot(figsize = (12,8))\n",
        "plt.vlines(splits.index, 0, 700, color = \"black\")\n",
        "plt.show()\n"
      ],
      "metadata": {
        "id": "YYX6i8oPTPr8"
      },
      "execution_count": null,
      "outputs": []
    },
    {
      "cell_type": "markdown",
      "source": [
        "unadjusted Dividends"
      ],
      "metadata": {
        "id": "Kmu4ua-_5NeV"
      }
    },
    {
      "cell_type": "code",
      "source": [
        "df[\"div_unadj\"] = df[\"Dividends\"] * df.Multiplier\n",
        "df.loc[df.div_unadj != 0].div_unadj.plot(figsize = (12,8))\n",
        "plt.show()"
      ],
      "metadata": {
        "id": "RrsoT_fQTP7I"
      },
      "execution_count": null,
      "outputs": []
    },
    {
      "cell_type": "markdown",
      "source": [
        "Unadjusted Trading Volume (number of shares)"
      ],
      "metadata": {
        "id": "3aWw5LF-5r91"
      }
    },
    {
      "cell_type": "code",
      "source": [
        "df[\"Volume_unadj\"] = df[\"Volume\"] / df.Multiplier\n",
        "print(df)\n",
        "\n",
        "df[\"Volume_unadj\"].plot(figsize = (12,8))\n",
        "plt.show()"
      ],
      "metadata": {
        "id": "43QirAu3TQLI"
      },
      "execution_count": null,
      "outputs": []
    },
    {
      "cell_type": "markdown",
      "source": [
        "Stocsk from other Countries / Exchanges List"
      ],
      "metadata": {
        "id": "tqfvCHzz7pey"
      }
    },
    {
      "cell_type": "code",
      "source": [
        "yf.download(tickers = \"APPL\") # US Ticker(no suffix)\n",
        "yf.download(tickers = \"RELIANCE\") # Indain Ticker(no suffix)\n",
        "yf.download(tickers = \"RELIANCE.NS\") # Indian Ticker\n",
        "yf.download(tickers = \"LHA.DE\")  # German Ticker(Deutsche Boerse XETRA)\n",
        "yf.download(tickers = \"LHA.F\") # German Ticker (Frankfurt Stock Exchange)\n"
      ],
      "metadata": {
        "id": "lqlHAlS87G2W"
      },
      "execution_count": null,
      "outputs": []
    },
    {
      "cell_type": "markdown",
      "source": [
        "Multiplier Tickers"
      ],
      "metadata": {
        "id": "blL_CIJm_Njq"
      }
    },
    {
      "cell_type": "code",
      "source": [
        "df = yf.download(tickers = [\"APPL\",\"MSFT\"])\n",
        "print(df)\n",
        "\n",
        "print(df.info())\n",
        "print(df.columns)\n",
        "print(df.Close)\n",
        "\n",
        "df.loc[:, (\"Close\", \"MSFT\")] # one specific column\n",
        "df.Close.MSFT # one specific column\n",
        "\n",
        "df.loc[:, (slice(None), slice(\"APPl\"))] # inner index level\n",
        "print(df)\n",
        "\n",
        "df = df.swaplevel(axis = \"columns\").sort_index(axis = \"columns\")\n",
        "print(df)\n",
        "\n",
        "print(df.AAPL)\n",
        "\n",
        "df = yf.download(tickers = [\"LHA.F\", \"LHA.DE\"]).Close\n",
        "print(df)\n"
      ],
      "metadata": {
        "id": "cCjsa1827zcf"
      },
      "execution_count": null,
      "outputs": []
    },
    {
      "cell_type": "markdown",
      "source": [
        "Saving and Loading Data (Local Files)"
      ],
      "metadata": {
        "id": "TINIVWQqFtF9"
      }
    },
    {
      "cell_type": "code",
      "source": [
        "symbol = \"AAPL\"\n",
        "print(df.to_csv(path_or_buf = \"apple.csv\")) # writing to local csv\n",
        "\n",
        "df2 = pd.read_csv(\"apple.csv\", index_col = \"Date\", parse_dates = [\"Date\"]) # laoding from local csv\n",
        "print(df2)\n",
        "print(df2.info())\n",
        "\n",
        "print(df.to_csv(path_or_buf = \"two_stocks.csv\")) # writing to local csv\n",
        "df2 = pd.read_csv(\"two_stock.csv\", header = [0,1], index_col = [0], parse_dates = [0])\n",
        "print(df2)\n",
        "print(df2.info())\n",
        "\n"
      ],
      "metadata": {
        "id": "6eoL1ADR7HvZ"
      },
      "execution_count": null,
      "outputs": []
    },
    {
      "cell_type": "markdown",
      "source": [
        "Equity Analysis with Python / Ticker Object"
      ],
      "metadata": {
        "id": "JUWFmQK2PX8S"
      }
    },
    {
      "cell_type": "code",
      "source": [
        "aapl = yf.Ticker(ticker = \"AAPL\")\n",
        "print(aapl)\n",
        "print(aapl.history()) # historical price and volume data\n",
        "print(aapl.get_info())\n",
        "\n",
        "info = pd.Series(aapl.get_info())\n",
        "print(info)\n",
        "print(info.head(50))\n",
        "\n"
      ],
      "metadata": {
        "id": "_nH5vZfGGjAV"
      },
      "execution_count": null,
      "outputs": []
    },
    {
      "cell_type": "markdown",
      "source": [
        "Market Capitalization / Shares Outstanding / Share price\n"
      ],
      "metadata": {
        "id": "vgiz35JOYgBy"
      }
    },
    {
      "cell_type": "code",
      "source": [
        "market_cap = info.marketCap\n",
        "print(market_cap)\n",
        "\n",
        "shares = info.sharesOutstanding\n",
        "print(shares)\n",
        "\n",
        "price = info.currentPrice\n",
        "print(price)\n",
        "\n",
        "print(market_cap / shares)\n"
      ],
      "metadata": {
        "id": "s_uSBelBYnc2"
      },
      "execution_count": null,
      "outputs": []
    },
    {
      "cell_type": "markdown",
      "source": [
        "Equity Value, Firm Value and Financail Distress"
      ],
      "metadata": {
        "id": "_C0-JT7zLdQw"
      }
    },
    {
      "cell_type": "code",
      "source": [
        "market_cap =info.marketCap\n",
        "print(market_cap)\n",
        "\n",
        "debt = info.totalDebt\n",
        "print(debt)\n",
        "\n",
        "firm_value = market_cap + debt\n",
        "print(firm_value)\n",
        "\n",
        "plt.bar([\"Firm Value\"], [market_cap], label = \"Equity\", width = 0.5)\n",
        "plt.bar([\"Firm Value\"], [debt], label = \"Debt\", width = 0.5, bottom = market_cap)\n",
        "plt.xlim(-1,1)\n",
        "plt.legend(fontsize = 12)\n",
        "plt.title(\"Firm Value Apple Inc\", fontsize = 15)\n",
        "plt.show()\n"
      ],
      "metadata": {
        "id": "kl67OIwULiDr"
      },
      "execution_count": null,
      "outputs": []
    },
    {
      "cell_type": "markdown",
      "source": [
        "Price / Market Value vs Book Value"
      ],
      "metadata": {
        "id": "_CK8qvF6WwAN"
      }
    },
    {
      "cell_type": "code",
      "source": [
        "price = info.currentPrice\n",
        "print(price)\n",
        "\n",
        "bv = info[\"bookValue\"]\n",
        "print(bv)\n",
        "\n",
        "price_book = price/bv\n",
        "print(price_book)\n",
        "\n",
        "symbol = \"GM\"\n",
        "print(yf.Ticker(ticker = symbol).get_info()[\"priceTobook\"])\n"
      ],
      "metadata": {
        "id": "Epu_6g_SLjDl"
      },
      "execution_count": null,
      "outputs": []
    },
    {
      "cell_type": "markdown",
      "source": [
        "Balance Sheet / Finanical Statements"
      ],
      "metadata": {
        "id": "HzzQurXhiT0M"
      }
    },
    {
      "cell_type": "code",
      "source": [
        "bs = aapl.get_balance_sheet() / 1000000 # annual (in million USD)\n",
        "print(bs)\n",
        "\n",
        "inc_stat = aapl.get_income_stmt() / 1000000 # (in million USD)\n",
        "print(inc_stat)\n",
        "\n",
        "cf = aapl.get_cashflow() / 1000000 # (in million USD)\n",
        "print(cf)\n",
        "\n",
        "print(aapl.quarterly_balance_sheet)\n",
        "print(aapl.quarterly_income_stmt)\n",
        "print(aapl.quarterly_cashflow)"
      ],
      "metadata": {
        "id": "hS41uAWsLjBG"
      },
      "execution_count": null,
      "outputs": []
    },
    {
      "cell_type": "markdown",
      "source": [
        "Finanical Data Analysis and Performance Evaluation with Python"
      ],
      "metadata": {
        "id": "IAYMTv45V_zT"
      }
    },
    {
      "cell_type": "code",
      "source": [
        "df = pd.read_csv(\"multi_assets.csv\", header = [0,1], index_col = 0, parse_dates = [0])\n",
        "print(df, df.info())\n",
        "\n",
        "close = df.Close.copy()\n",
        "print(close)\n",
        "\n",
        "close.BA.dropna().plot(figsize = (15,8), fontsize = 13)\n",
        "plt.legend(fontsize = 13)\n",
        "plt.show()\n",
        "\n",
        "close.describe()\n",
        "close.dropna().plot(figszie = (15,8), fontsize = 13)\n",
        "plt.legend(fontsize = 13)\n",
        "plt.show()\n",
        "\n"
      ],
      "metadata": {
        "id": "bxNBpQAjLi92"
      },
      "execution_count": null,
      "outputs": []
    },
    {
      "cell_type": "markdown",
      "source": [
        "Normalizing Financial Time Series to a Base Value(100)"
      ],
      "metadata": {
        "id": "_0f_xMPTXysc"
      }
    },
    {
      "cell_type": "code",
      "source": [
        "close.iloc[0,0]\n",
        "close.BA.div(close.iloc[0,0]).mul(100)\n",
        "close.iloc[0]\n",
        "norm = close.div(close.iloc[0]).mul(100)\n",
        "\n",
        "norm.dropna().plot(figszie = (15, 8), fontsize = 13, logy = False)\n",
        "plt.legend(fontsize = 13)\n",
        "plt.show()\n",
        "\n",
        "close.to_csv(\"close.csv\")"
      ],
      "metadata": {
        "id": "HpV61gYxXydZ"
      },
      "execution_count": null,
      "outputs": []
    },
    {
      "cell_type": "code",
      "source": [
        "start = \"2015-01-02\"\n",
        "end = \"2020-12-31\"\n",
        "symbol = [\"GE\", \"Reliance.NS\"]\n",
        "\n",
        "df = yf.download(symbol, start, end)\n",
        "close = df.Close.copy()\n",
        "print(df, close)\n",
        "\n",
        "close.GE.dropna().plot(figsize = (15,8), fontsize = 13)\n",
        "plt.legend(fontsize = 13)\n",
        "plt.show()\n",
        "\n",
        "norm = close.div(close.iloc[0]).mul(1)\n",
        "print(norm) \n",
        "\n"
      ],
      "metadata": {
        "id": "KM3tywOIXyam"
      },
      "execution_count": null,
      "outputs": []
    },
    {
      "cell_type": "markdown",
      "source": [
        "Price Changes and Financial Returns"
      ],
      "metadata": {
        "id": "pumCSWmWcPNB"
      }
    },
    {
      "cell_type": "code",
      "source": [
        "close = pd.read_csv(\"close.csv\", index_col = \"Date\", parse_dates = [\"Date\"])\n",
        "msft = close.MSFT.dropna().to_frame().copy()\n",
        "print(close, msft)\n",
        "\n",
        "msft.rename(columns = {\"MSFT\": \"Price\"}, inplace = True)\n",
        "print(msft)\n",
        "\n",
        "msft.shift(periods = 1)\n",
        "print(msft)\n",
        "\n",
        "msft[\"P_lagl\"] = msft.shift(periods = 1)\n",
        "print(msft)\n",
        "\n",
        "msft[\"P_diff\"] = msft.Price.sub(msft.P_lagl)\n",
        "print(msft)\n",
        "\n",
        "msft.P_diff.equals(msft.P_diff2)\n",
        "msft.Price.div(msft.P_lagl) - 1\n",
        "print(msft)\n",
        "\n",
        "msft[\"Returns\"] = msft.Price.pct_change(periods = 1)\n",
        "print(msft)\n",
        "print(46.0900 / 45.7600 - 1)\n",
        "\n",
        "msft.drop(columns = [\"P_lagl\", \"P_diff\", \"P_diff2\"], inplace = True)\n",
        "print(msft)\n",
        "\n",
        "msft.to_csv(\"msft.csv\")\n",
        "print(msft)"
      ],
      "metadata": {
        "id": "_eHRrc9QWFVa"
      },
      "execution_count": null,
      "outputs": []
    },
    {
      "cell_type": "markdown",
      "source": [
        "Measuring Reward and Risk of an Investment "
      ],
      "metadata": {
        "id": "VjtUrSHqkik6"
      }
    },
    {
      "cell_type": "code",
      "source": [
        "msft = pd.read_csv(\"msft.csv\", index_col = \"Date\", parse_dates = [\"Date\"])\n",
        "print(msft)\n",
        "\n",
        "msft.price.plot(figsize = (15,8), fontsize = 13)\n",
        "plt.legend(fontsize = 13)\n",
        "plt.show()\n",
        "print(msft.describe())\n",
        "\n",
        "mu = msft.Returns.menu()\n",
        "print(mu)\n",
        "\n",
        "sigma = msft.Returns.std()\n",
        "print(sigma, np.sqrt(msft.Returns.var()))\n"
      ],
      "metadata": {
        "id": "QtL0UJFELi6p"
      },
      "execution_count": null,
      "outputs": []
    },
    {
      "cell_type": "markdown",
      "source": [
        "Investment Multiple and CAGR"
      ],
      "metadata": {
        "id": "F6B_I2Svnoz0"
      }
    },
    {
      "cell_type": "code",
      "source": [
        "multiple = (msft.price[-1] / msft.Price[0])\n",
        "print(multiple)\n",
        "print((multiple - 1) * 100)\n",
        "print(msft.Price / msft.Price[0])\n",
        "\n",
        "start = msft.index[0]\n",
        "end = msft.index[-1]\n",
        "td = end - start\n",
        "td_years = td.days /365.25\n",
        "print(start, end, td, td_years)\n",
        "\n",
        "cagr = (msft.price[-1]) **(1/((msft.index[-1] - msft.index[0].days / 365.15)) - 1)\n",
        "print(cagr)\n",
        "\n",
        "print((1 + cagr) **(td_years))"
      ],
      "metadata": {
        "id": "BmDTU6zSmiwQ"
      },
      "execution_count": null,
      "outputs": []
    },
    {
      "cell_type": "markdown",
      "source": [
        "Compound Returns & Geometric Mean Return"
      ],
      "metadata": {
        "id": "NGFz77T_ppOr"
      }
    },
    {
      "cell_type": "code",
      "source": [
        "multiple = (1 + msft.Return).prod()\n",
        "print(multiple)\n",
        "\n",
        "n = msft.Returns.count()\n",
        "print(n)\n",
        "\n",
        "geo_mean = multiple**(1/n) - 1\n",
        "print(geo_mean)\n",
        "print((1 + geo_mean)**n)\n",
        "\n",
        "mu = msft.Returns.mean()\n",
        "print(mu)\n",
        "\n",
        "print((1 + mu)**n)"
      ],
      "metadata": {
        "id": "D7GVj8PxmiqT"
      },
      "execution_count": null,
      "outputs": []
    },
    {
      "cell_type": "markdown",
      "source": [
        "Discrete Compounding"
      ],
      "metadata": {
        "id": "LtRNZdHjq3jI"
      }
    },
    {
      "cell_type": "code",
      "source": [
        "PV = 100\n",
        "r = 0.08\n",
        "n = 1\n",
        "m = 4\n",
        "print(100 * 1.08)\n",
        "\n",
        "FV = PV * (1 + r)**n\n",
        "print(FV)\n",
        "\n",
        "effective_annual_rate = (FV/PV)**(1/n) - 1\n",
        "print(effective_annual_rate)\n",
        "\n",
        "FV = PV * (1 + r/m)**(n*m)\n",
        "print(FV)\n",
        "\n",
        "efferctive_annual_rate = (FV/PV)**(1/n) - 1\n",
        "print(effective_annual_rate)\n",
        "\n"
      ],
      "metadata": {
        "id": "r1Y6Z5frltrp"
      },
      "execution_count": null,
      "outputs": []
    },
    {
      "cell_type": "markdown",
      "source": [
        "Simple Returns vs Log Returns (Part 1)"
      ],
      "metadata": {
        "id": "VyHy40posdgQ"
      }
    },
    {
      "cell_type": "code",
      "source": [
        "df = pd.DataFrame(data = [100,50,90], columns = [\"Price\"])\n",
        "print(df)\n",
        "\n",
        "df[\"SR\"] = df.price.pct_chnage() # simple returns\n",
        "df[\"LR\"] = np.log(df.Price / df.price.shift()) # Log returns\n",
        "print(df)\n",
        "\n",
        "periods = df.SR.count()\n",
        "print(periods)\n",
        "\n",
        "mean_sr = df.SR.mean()\n",
        "print(mean_sr)\n",
        "\n",
        "100 * (1 + df.SR).prod()**(periods)\n",
        "\n",
        "geo_mean = (1 + df.SR).prod()**(1/periods) - 1\n",
        "print(geo_mean)\n",
        "\n",
        "print(100 * (1 + geo_mean)**periods)\n",
        "\n",
        "sum_lr = df.LR.sum()\n",
        "print(sum_lr)\n",
        "\n",
        "mean_lr = df.LR.mean()\n",
        "print(mean_lr)\n",
        "\n",
        "print(100 * np.exp(mean_lr * periods))\n"
      ],
      "metadata": {
        "id": "wAAcU8HIltpG"
      },
      "execution_count": null,
      "outputs": []
    },
    {
      "cell_type": "markdown",
      "source": [
        "Simple Returns vs. Log Returns(Part 2)"
      ],
      "metadata": {
        "id": "xDk53ZOs8yB8"
      }
    },
    {
      "cell_type": "code",
      "source": [
        "msft = pd.read_csv(\"msft.csv\", index_col = \"Date\", parse_dates = [\"Date\"])\n",
        "print(msft)\n",
        "\n",
        "msft.Returns.add(1).prod()\n",
        "np.exp(msft.log_ret.sum())\n",
        "msft.Returns.add(1).cumprod()\n",
        "np.exp(msft.log_ret.cumsum())\n",
        "msft.log_ret.cumsum().apply(np.exp)\n",
        "(msft.Price[-1]/msft.Price[0])**(1/((msft.index[-1] - msft.index[0]).days / 365.25)) -1\n",
        "\n",
        "trading_days_year = msft.Returns.count() / ((msft.index[-1] - msft.index[0]).days / 365.25)\n",
        "print(trading_days_year)\n",
        "\n",
        "np.exp(msft.log_ret.mean() * trading_days_year) - 1\n",
        "msft.Returns.mean() * trading_days_year\n",
        "np.exp(msft.log_ret.mean() * 252) - 1\n"
      ],
      "metadata": {
        "id": "8efcz4hvltmU"
      },
      "execution_count": null,
      "outputs": []
    },
    {
      "cell_type": "markdown",
      "source": [
        "Price Return vs. Total Return(Equities)"
      ],
      "metadata": {
        "id": "rA2tIzBBBwk7"
      }
    },
    {
      "cell_type": "code",
      "source": [
        " df = pd.read_csv(\"multi_assets.csv\", header = [0,1]), index_col = 0, parse_dates = [0])[\"Adj Close\"]\n",
        " print(df)\n",
        "\n",
        " close[\"BA_TR\"] = df.BA\n",
        " close[\"MSFT_TR\"] = df.MSFT\n",
        "\n",
        " returns = close.apply(lambda x: np.log(x.dropna() / x.dropna().shift()))\n",
        " print(returns)\n",
        "\n",
        " summary = returns.agg([\"mean\", \"std\"]).T\n",
        " print(summary)\n",
        "\n",
        " summary.columns = [\"Mean\", \"std\"]\n",
        " print(summary)"
      ],
      "metadata": {
        "id": "SgOrFXbsltkE"
      },
      "execution_count": null,
      "outputs": []
    },
    {
      "cell_type": "markdown",
      "source": [
        "Normality of Financial Returns"
      ],
      "metadata": {
        "id": "_d5NTFkfHvY1"
      }
    },
    {
      "cell_type": "code",
      "source": [
        "msft[\"log_ret\"] = np.log(msft.Price / msft.Price.shift())\n",
        "print(msft, msft.describe())\n",
        "\n",
        "msft.log_ret.plot(kind = \"hist\", figsize = (15,8), bins = 100, fontsize = 15, density = False)\n",
        "plt.xlabel(\"Daily Returns\", fontsize = 15)\n",
        "plt.ylabel(\"Frequency\", fontsize = 15)\n",
        "plt.title(\"Frequancy Distribution of Returns\", fontsize = 20)\n",
        "plt.show()\n",
        "\n",
        "mu = msft.log_ret.mean()\n",
        "sigma = msft.log_ret.std()\n",
        "print(mu, sigma)\n",
        "\n",
        "stats.skew(msft.log_ret.dropna())\n",
        "stats.kurtosis(msft.log_ret.dropna(), fisher = True)\n",
        "\n",
        "x = np.linspace(msft.log_ret.min(), msft.log_ret.max(), 10000)\n",
        "y = stats.norm.odf(x, loc = mu, scala = sigma)\n",
        "print(x, y)\n",
        "\n",
        "plt.figure(figsize = (20,8))\n",
        "plt.hist(msft.log_ret, bins = 500, density = True, label = \"Frequency Distribution of daily Returns\")\n",
        "plt.plot(x, y, linewidth = 3, color = \"red\", label = \"Normal Distribution\")\n",
        "plt.title(\"Normal Distribution\", fontsize = 20)\n",
        "plt.xlabel(\"Daily Returns\", fontsize = 15)\n",
        "plt.ylabel(\"pdf\", fontsize = 15)\n",
        "plt.legend(fontsize = 15)\n",
        "plt.show()\n",
        "\n"
      ],
      "metadata": {
        "id": "gdCFALxlB2BH"
      },
      "execution_count": null,
      "outputs": []
    },
    {
      "cell_type": "markdown",
      "source": [
        "Rolling Statistics"
      ],
      "metadata": {
        "id": "7tX1viAHqAeW"
      }
    },
    {
      "cell_type": "code",
      "source": [
        "ann_mu = msft.log_ret.mean() *  252\n",
        "print(ann_mu)\n",
        "\n",
        "ann_std = msft.log_ret.std() * np.sqrt(252)\n",
        "print(ann_std)\n",
        "\n",
        "window = 252\n",
        "print(msft.log_ret.rolling(window = 252))\n",
        "print(msft.log_ret.rolling(window = 252).sum())\n",
        "\n",
        "roll_std = msft.log_ret.rolling(window = 252).std() * np.sqrt(252)\n",
        "print(roll_std)\n",
        "\n",
        "roll_std.plot(figsize = (12,8))\n",
        "plt.show()\n",
        "\n",
        "roll_std = msft.log_ret.rolling(window = 252).std() * np.sqrt(252)\n",
        "print(roll_std)\n",
        "\n",
        "roll_std.plot(figsize = (12,8))\n",
        "plt.show()\n",
        "\n",
        "print(roll_mean.iloc[250:])\n",
        "roll_mean.plot(figsize = (12,8))\n",
        "plt.show()\n",
        "\n",
        "sma_window = 50\n",
        "msft.Price.plot(figsize = (12,8))\n",
        "msft.Price.rolling(sma_window).mean().plot()\n",
        "plt.show()"
      ],
      "metadata": {
        "id": "gRZZeX_1B1-4"
      },
      "execution_count": null,
      "outputs": []
    },
    {
      "cell_type": "markdown",
      "source": [
        "Short Selling / Short Positions"
      ],
      "metadata": {
        "id": "1rTgB25ksLuV"
      }
    },
    {
      "cell_type": "code",
      "source": [
        "close[\"USDEUR=X\"] = 1/close[\"USDEUR=X\"]\n",
        "print(close)\n",
        "\n",
        "fx = close[[\"EURUSD=X\", \"USDEUR=X\"]].dropna().copy()\n",
        "print(fx)\n",
        "\n",
        "fx.plot(figsize = (12,8), fontsize = 13)\n",
        "plt.legend(fontsize = 13)\n",
        "plt.show()\n",
        "\n",
        "simple_ret = fx.pct_change()\n",
        "print(simple_ret)\n",
        "\n",
        "log_ret = np.log(fx / fx.shift())\n",
        "print(log_ret)\n",
        "print(log_ret.sum())\n",
        "\n",
        "norm_fx = log_ret.cumsum().apply(np.exp)\n",
        "print(norm_fx)\n",
        "print(norm_fx.iloc[0] = [1,1], norm_fx)\n",
        "\n",
        "norm_fx.plot(figsize = (12,8), fontsize =13)\n",
        "plt.legend(fontsize  = 13)\n",
        "plt.show()\n"
      ],
      "metadata": {
        "id": "E31YnsoBt4qb"
      },
      "execution_count": null,
      "outputs": []
    },
    {
      "cell_type": "markdown",
      "source": [
        "Covariance and Correlation"
      ],
      "metadata": {
        "id": "oQAbOV8dxM5b"
      }
    },
    {
      "cell_type": "code",
      "source": [
        "close[\"USEDEUR=X\"] = 1/close[\"EURUSD=X\"]\n",
        "print(close)\n",
        "\n",
        "returns = close.apply(lambda x: np.log(x.dropna() / x.dropna().shift()))\n",
        "print(returns, returns.cov(), returns.corr())\n",
        "\n",
        "plt.figure(figsize = (12,8))\n",
        "sns.set(font_scale = 1.4)\n",
        "sns.heatmap(returns.corr(), cmap = \"RdYlBu_r\", annot = True, annot_kws = {\"size\": 15}, vmin = -1, vmax = 1)\n",
        "plt.show()\n"
      ],
      "metadata": {
        "id": "olz2ofpzt4lC"
      },
      "execution_count": null,
      "outputs": []
    },
    {
      "cell_type": "markdown",
      "source": [
        "Portfolio of Assets and Portfolio Returns"
      ],
      "metadata": {
        "id": "3icOVJinzMow"
      }
    },
    {
      "cell_type": "code",
      "source": [
        "prices = pd.DataFrame(data = {\"Asset_A\": [100,112], \"Asset_B\": [100,104], index = [0,1]})\n",
        "print(prices)\n",
        "\n",
        "prices[\"Total\"] = prices.Asset_A + prices.Asset_B\n",
        "print(prices)\n",
        "\n",
        "returns = prices.pct_change()\n",
        "print(returns)\n",
        "\n",
        "log_returns = np.log(prices / prices.shift())\n",
        "print(log_returns)\n",
        "\n",
        "print(0.5 * log_returns.iloc[1,0] + 0.5 * log_returns.iloc[1,1])\n",
        "\n"
      ],
      "metadata": {
        "id": "MEe6NPdIt4fC"
      },
      "execution_count": null,
      "outputs": []
    },
    {
      "cell_type": "markdown",
      "source": [
        "Margin Trading & Levered Returns"
      ],
      "metadata": {
        "id": "U9Z1B13w1OhQ"
      }
    },
    {
      "cell_type": "code",
      "source": [
        "P0 = 100\n",
        "P1 = 110\n",
        "leverage = 2\n",
        "margin = P0/2\n",
        "print(margin)\n",
        "\n",
        "unlev_return = (P1 - P0) / P0\n",
        "print(unlev_return)\n",
        "\n",
        "lev_return = (P1 - P0) / margin\n",
        "print(lev_return)\n",
        "\n",
        "unlev_return = np.log((P1 - P0) / P0 + 1)\n",
        "print(unlev_return)\n",
        "\n",
        "lev_return = np.log((P1 - P0) / margin + 1)\n",
        "print(lev_return)"
      ],
      "metadata": {
        "id": "dk8J17xit4Zn"
      },
      "execution_count": null,
      "outputs": []
    },
    {
      "cell_type": "markdown",
      "source": [
        "ETF Investing and Index Replication / Tracking"
      ],
      "metadata": {
        "id": "aYwMkXYwP5JV"
      }
    },
    {
      "cell_type": "code",
      "source": [
        "index = \"^GSPC\"\n",
        "index_tr = \"^SP500TR\"\n",
        "etf = \"SPY\"\n",
        "\n",
        "df = yf.download([index, index_tr, etf], end = \"2020-11-30\")\n",
        "print(df)\n",
        "\n",
        "prices = df.Close.copy()\n",
        "print(prices)\n",
        "print(prices[\"SPYTR\"] = df[(\"ADj Close\", \"SPY\")])\n",
        "\n",
        "norm = prices / prices.iloc[0]\n",
        "print(norm)\n",
        "\n",
        "norm[[\"SPY\", \"^GSPC\"]].plot(figsize = (12,8))\n",
        "plt.title(\"S&P500: ETF Price vs Price Return Index\", fontsize = 15)\n",
        "plt.show()\n",
        "\n",
        "norm.loc[: [\"SPYTR\", \"^SP500TR\"]].plot(figsize = (12,8))\n",
        "plt.title(\"S&P500: ETF Tr vs Total Return Index\", fontsize = 15)\n",
        "plt.show()\n",
        "\n",
        "returns = prices.pct_change()\n",
        "print(returns)\n",
        "\n",
        "def ann_risk_return(returns_df):\n",
        "  summary = pd.DataFrame(index = returns_df.columns)\n",
        "  summary[\"ann. Risk\"] = returns_df.std() * np.sqrt(252)\n",
        "  log_returns = np.log(returns_df + 1)\n",
        "  summary[\"CAGR\"] = np.exp(log_returns.mean() * 252) - 1\n",
        "  return summary\n",
        "\n",
        "summary = ann_risk_return(returns)\n",
        "print(summary)\n"
      ],
      "metadata": {
        "id": "z7ZsnWq51SJb"
      },
      "execution_count": null,
      "outputs": []
    },
    {
      "cell_type": "markdown",
      "source": [
        "Active Return and Active Risk (Tracking Error)"
      ],
      "metadata": {
        "id": "1MoKUM6rS9wr"
      }
    },
    {
      "cell_type": "code",
      "source": [
        "price_ret = returns[[\"^GSPC\", \"SPY\"]]\n",
        "print(price_ret)\n",
        "\n",
        "total_ret = returns[[\"^SP500TR\", \"SPYTR\"]]\n",
        "print(total_ret)\n",
        "\n",
        "def tracking(returns_df, index):\n",
        "  active_returns = returns_df.sub(returns_df[index], axis = \"rows\")\n",
        "  summary = pd.DataFrame(index = returns_df.columns)\n",
        "  summary[\"TrackingError\"] = active_returns.std() * np.sqrt(252)\n",
        "  log_returns = np.log(active_returns + 1)\n",
        "  return summary \n",
        "\n",
        "print(tracking(price_ret, \"^GSPC\"))\n",
        "print(tracking(total_ret, \"^SP500TR\"))"
      ],
      "metadata": {
        "id": "S-J8oeA0B18h"
      },
      "execution_count": null,
      "outputs": []
    },
    {
      "cell_type": "markdown",
      "source": [
        "Etf Trading with the Interactive Brokers(IBKR) API"
      ],
      "metadata": {
        "id": "SoFDiMT-ZzzX"
      }
    },
    {
      "cell_type": "code",
      "source": [
        "from ib_insync import * \n",
        "util.startLoop()\n",
        "\n",
        "ib = IB()\n",
        "ib.connect()\n",
        "symbol = \"SPY\"\n",
        "\n",
        "contract = Stock[symbol, \"SMART\", \"USD\"]\n",
        "print(contract)\n",
        "\n",
        "cd = ib.reqContractDetails(contract)\n",
        "print(cd, len(cd))\n",
        "print(ib.qualityContracts(contract))\n",
        "\n",
        "data = ib.reqMktData(contract)\n",
        "print(data)\n",
        "print(ib.reqMarketDataType(3))\n",
        "print(data.marketPrice())\n",
        "\n",
        "order = MarketOrder(action = \"BUY\", totalQuantity = 1)\n",
        "print(order)\n",
        "\n",
        "trade = ib.placeOrder(contract, order)\n",
        "while not trade.isDone():\n",
        "  ib.waitOnUpdate()\n",
        "\n",
        "print(trade.orderStatus.status)\n",
        "print(trade.orderStatus.avgFillPrice)\n",
        "\n",
        "pos = ib.positions()\n",
        "print(pos)\n",
        "\n",
        "df = util.df(pos)\n",
        "print(df)\n",
        "\n",
        "df[\"symbol\"] = df.contract.apply(lambda x: x.symbol)\n",
        "df[\"conID\"] = df.contract.apply(lambda x: x.conId)\n",
        "print(df)\n",
        "\n",
        "ib.disconnect()"
      ],
      "metadata": {
        "id": "pTIJX--8TCSI"
      },
      "execution_count": null,
      "outputs": []
    }
  ]
}